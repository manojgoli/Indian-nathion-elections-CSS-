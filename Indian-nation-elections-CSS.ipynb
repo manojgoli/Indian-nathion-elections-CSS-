{
 "cells": [
  {
   "cell_type": "markdown",
   "metadata": {},
   "source": [
    "# Indian National Elections-Minority Women\n",
    "#Contributers: Venkata Guru Satvik Dondapati\n",
    "             , Sheetal Umakrishna\n",
    "             , Itishree Ghungru\n",
    "             , Ahsen Naeem\n",
    "             , Manoj kumar Goli "
   ]
  },
  {
   "cell_type": "code",
   "execution_count": 1,
   "metadata": {},
   "outputs": [
    {
     "name": "stdout",
     "output_type": "stream",
     "text": [
      "Requirement already satisfied: scikit-learn in /Users/ManojGoli/anaconda3/lib/python3.6/site-packages\n",
      "\u001b[33mYou are using pip version 9.0.1, however version 19.2 is available.\n",
      "You should consider upgrading via the 'pip install --upgrade pip' command.\u001b[0m\n",
      "Requirement already satisfied: matplotlib in /Users/ManojGoli/anaconda3/lib/python3.6/site-packages\n",
      "Requirement already satisfied: numpy>=1.7.1 in /Users/ManojGoli/anaconda3/lib/python3.6/site-packages (from matplotlib)\n",
      "Requirement already satisfied: six>=1.10 in /Users/ManojGoli/anaconda3/lib/python3.6/site-packages (from matplotlib)\n",
      "Requirement already satisfied: python-dateutil>=2.1 in /Users/ManojGoli/anaconda3/lib/python3.6/site-packages (from matplotlib)\n",
      "Requirement already satisfied: pytz in /Users/ManojGoli/anaconda3/lib/python3.6/site-packages (from matplotlib)\n",
      "Requirement already satisfied: cycler>=0.10 in /Users/ManojGoli/anaconda3/lib/python3.6/site-packages (from matplotlib)\n",
      "Requirement already satisfied: pyparsing!=2.0.4,!=2.1.2,!=2.1.6,>=2.0.1 in /Users/ManojGoli/anaconda3/lib/python3.6/site-packages (from matplotlib)\n",
      "\u001b[33mYou are using pip version 9.0.1, however version 19.2 is available.\n",
      "You should consider upgrading via the 'pip install --upgrade pip' command.\u001b[0m\n",
      "Requirement already satisfied: xlrd in /Users/ManojGoli/anaconda3/lib/python3.6/site-packages\n",
      "\u001b[33mYou are using pip version 9.0.1, however version 19.2 is available.\n",
      "You should consider upgrading via the 'pip install --upgrade pip' command.\u001b[0m\n",
      "Requirement already satisfied: pandas in /Users/ManojGoli/anaconda3/lib/python3.6/site-packages\n",
      "Requirement already satisfied: python-dateutil>=2 in /Users/ManojGoli/anaconda3/lib/python3.6/site-packages (from pandas)\n",
      "Requirement already satisfied: pytz>=2011k in /Users/ManojGoli/anaconda3/lib/python3.6/site-packages (from pandas)\n",
      "Requirement already satisfied: numpy>=1.9.0 in /Users/ManojGoli/anaconda3/lib/python3.6/site-packages (from pandas)\n",
      "Requirement already satisfied: six>=1.5 in /Users/ManojGoli/anaconda3/lib/python3.6/site-packages (from python-dateutil>=2->pandas)\n",
      "\u001b[33mYou are using pip version 9.0.1, however version 19.2 is available.\n",
      "You should consider upgrading via the 'pip install --upgrade pip' command.\u001b[0m\n"
     ]
    }
   ],
   "source": [
    "try:\n",
    "    import sklearn\n",
    "except ModuleNotFoundError:\n",
    "        !pip install scikit-learn\n",
    "try:\n",
    "    import matplotlib.python as pit\n",
    "except ModuleNotFoundError:\n",
    "        !pip install matplotlib\n",
    "        \n",
    "!pip install xlrd\n",
    "\n",
    "try:\n",
    "    import pands as pd\n",
    "except ModuleNotFoundError:\n",
    "        !pip install pandas\n",
    "            "
   ]
  },
  {
   "cell_type": "code",
   "execution_count": 2,
   "metadata": {},
   "outputs": [
    {
     "ename": "ModuleNotFoundError",
     "evalue": "No module named 'sklearn'",
     "output_type": "error",
     "traceback": [
      "\u001b[0;31m---------------------------------------------------------------------------\u001b[0m",
      "\u001b[0;31mModuleNotFoundError\u001b[0m                       Traceback (most recent call last)",
      "\u001b[0;32m<ipython-input-2-3a3517c796d8>\u001b[0m in \u001b[0;36m<module>\u001b[0;34m\u001b[0m\n\u001b[1;32m      2\u001b[0m \u001b[0;32mimport\u001b[0m \u001b[0mwarnings\u001b[0m\u001b[0;34m\u001b[0m\u001b[0m\n\u001b[1;32m      3\u001b[0m \u001b[0mwarnings\u001b[0m\u001b[0;34m.\u001b[0m\u001b[0mfilterwarnings\u001b[0m\u001b[0;34m(\u001b[0m\u001b[0;34m'ignore'\u001b[0m\u001b[0;34m)\u001b[0m\u001b[0;34m\u001b[0m\u001b[0m\n\u001b[0;32m----> 4\u001b[0;31m \u001b[0;32mfrom\u001b[0m \u001b[0msklearn\u001b[0m \u001b[0;32mimport\u001b[0m \u001b[0mmetrics\u001b[0m\u001b[0;34m\u001b[0m\u001b[0m\n\u001b[0m\u001b[1;32m      5\u001b[0m \u001b[0;32mimport\u001b[0m \u001b[0mmatplotlib\u001b[0m\u001b[0;34m.\u001b[0m\u001b[0mpyplot\u001b[0m \u001b[0;32mas\u001b[0m \u001b[0mplt\u001b[0m\u001b[0;34m\u001b[0m\u001b[0m\n\u001b[1;32m      6\u001b[0m \u001b[0;32mimport\u001b[0m \u001b[0mpandas\u001b[0m \u001b[0;32mas\u001b[0m \u001b[0mpd\u001b[0m \u001b[0;31m# data processing, CSV file\u001b[0m\u001b[0;34m\u001b[0m\u001b[0m\n",
      "\u001b[0;31mModuleNotFoundError\u001b[0m: No module named 'sklearn'"
     ]
    }
   ],
   "source": [
    "# immporting whatis necessary\n",
    "import warnings\n",
    "warnings.filterwarnings('ignore')\n",
    "from sklearn import metrics\n",
    "import matplotlib.pyplot as plt\n",
    "import pandas as pd # data processing, CSV file \n",
    "# Load the train and test datasets to create two dataframes\n",
    "ne = pd.read_excel('National Election India 1977 - 2014.xlsx')"
   ]
  },
  {
   "cell_type": "code",
   "execution_count": null,
   "metadata": {},
   "outputs": [],
   "source": [
    "#YOu can see the head of the data set\n",
    "ne.head()"
   ]
  },
  {
   "cell_type": "code",
   "execution_count": null,
   "metadata": {},
   "outputs": [],
   "source": [
    "len(ne)"
   ]
  },
  {
   "cell_type": "code",
   "execution_count": null,
   "metadata": {},
   "outputs": [],
   "source": [
    "ne.describe()"
   ]
  },
  {
   "cell_type": "code",
   "execution_count": null,
   "metadata": {},
   "outputs": [],
   "source": [
    "# absolute numbers to check the total no of Minorities=sc/st and majorities=Gen\n",
    "print(ne[\"pc_type\"].value_counts())"
   ]
  },
  {
   "cell_type": "code",
   "execution_count": null,
   "metadata": {},
   "outputs": [],
   "source": [
    "#Total no of female participates in each year\n",
    "print(ne[\"year\"][ne[\"cand_sex\"]=='F'].value_counts())"
   ]
  },
  {
   "cell_type": "code",
   "execution_count": null,
   "metadata": {},
   "outputs": [],
   "source": [
    "# Print the ne data to see the available features\n",
    "coloum_title=print(ne.columns.values)"
   ]
  },
  {
   "cell_type": "code",
   "execution_count": null,
   "metadata": {},
   "outputs": [],
   "source": [
    "#checking are there any spelling or word errors and repeting state names\n",
    "print(ne['pc_type'].unique())\n",
    "print(ne['cand_sex'].unique())\n",
    "print(ne['pc_name'].unique())"
   ]
  },
  {
   "cell_type": "markdown",
   "metadata": {},
   "source": [
    "I took 'GEN' ( general) as Majorities.\n",
    "I took SC/st as Minorities to make it simple for understanding."
   ]
  },
  {
   "cell_type": "code",
   "execution_count": null,
   "metadata": {},
   "outputs": [],
   "source": [
    "# replacing the errors\n",
    "ne=ne.replace(['GEN','SC ','ST','SC','INC(I)','chhattisgarh','Goa Daman & Diu','National Capital Territory Of Delhi','Nct Of Delhi','Orissa','pondicherry','uttaranchal'],['Majorities','Minorities','Minorities','Minorities','INC','Chattisgarh','Goa, Daman & Diu','Delhi','Delhi','Odisha','Puducherry','Uttarakhand'])"
   ]
  },
  {
   "cell_type": "code",
   "execution_count": null,
   "metadata": {},
   "outputs": [],
   "source": [
    "#checking the empty cells\n",
    "from sklearn import tree\n",
    "ne.isnull().sum()"
   ]
  },
  {
   "cell_type": "code",
   "execution_count": null,
   "metadata": {},
   "outputs": [],
   "source": [
    "#for filling the missing data in pc_type(2009 data)\n",
    "def nanreplacing(ind,outfilename):\n",
    "    #Modifying the pd.DataFrame to get max value in each pc_name\n",
    "    ad = pd.DataFrame(ind,columns=['pc_name','pc_type','year','totvotpoll']).apply(lambda y: y.str.strip() if y.dtype==\"object\" else y)\n",
    "    ad = ad.dropna()\n",
    "    ad = pd.DataFrame(ad.groupby(['pc_name','year']).max())\n",
    "    ad = pd.DataFrame(ad.reset_index(level=['pc_name','year']))\n",
    "    ad = pd.DataFrame(ad,columns=['pc_name','pc_type']).groupby('pc_name').agg(lambda  x : x.value_counts().index[0])\n",
    "    lkp=ad.to_dict()['pc_type']\n",
    "    #print(lkp)\n",
    "    ind['pc_type'] = ind['pc_type'].fillna(ind['pc_name'].apply(lambda x : lkp.get(x) if lkp.get(x) != None else 'GEN' ))\n",
    "    ind.to_excel(outfilename, sheet_name='Sheet1',index=False)\n",
    "nanreplacing(ne,\"National Election India 1977 - 2014.xlsx\")"
   ]
  },
  {
   "cell_type": "code",
   "execution_count": null,
   "metadata": {},
   "outputs": [],
   "source": [
    "#cleaning missing data in cand_sex\n",
    "ne[\"cand_sex\"] = ne[\"cand_sex\"].fillna('M')"
   ]
  },
  {
   "cell_type": "code",
   "execution_count": null,
   "metadata": {},
   "outputs": [],
   "source": [
    "ne.isnull().sum()"
   ]
  },
  {
   "cell_type": "markdown",
   "metadata": {},
   "source": [
    "After cleaning and arranging every thing now we can observe the below data as"
   ]
  },
  {
   "cell_type": "code",
   "execution_count": null,
   "metadata": {},
   "outputs": [],
   "source": [
    "#we need only 'year','cand_sex'(gender),'pc_type'(cast=majorities,minorities)\n",
    "ne_cross=pd.crosstab(ne['year'],[ne['cand_sex'],ne['pc_type']],margins=True)\n",
    "ne_cross"
   ]
  },
  {
   "cell_type": "code",
   "execution_count": null,
   "metadata": {},
   "outputs": [],
   "source": [
    "ne_cross = ne_cross.drop(labels='All', axis=1)\n",
    "ne_cross= ne_cross.drop(labels='All', axis=0)\n",
    "ne_cross"
   ]
  },
  {
   "cell_type": "code",
   "execution_count": null,
   "metadata": {},
   "outputs": [],
   "source": [
    "#I will be overwriting dataframe so i took ('fmp1' ='ne') because i dont want to change the original dataset.\n",
    "fmp1=ne\n",
    "fmp1=fmp1[fmp1.cand_sex == 'F']\n",
    "fmp1=fmp1[fmp1.pc_type != 'Minorities']"
   ]
  },
  {
   "cell_type": "code",
   "execution_count": null,
   "metadata": {},
   "outputs": [],
   "source": [
    "fmp2=pd.crosstab(fmp1['year'],[fmp1['cand_sex'],fmp1['pc_type']],margins=True)\n",
    "fmp2= fmp2.drop(labels='All', axis=1)\n",
    "fmp2= fmp2.drop(labels='All', axis=0)"
   ]
  },
  {
   "cell_type": "code",
   "execution_count": null,
   "metadata": {},
   "outputs": [],
   "source": [
    "fmp2"
   ]
  },
  {
   "cell_type": "code",
   "execution_count": null,
   "metadata": {},
   "outputs": [],
   "source": [
    "#Ploting a graph for female majority participants in Indian National Elections(INE)\n",
    "ax2=fmp2.plot(kind='bar',color='b')\n",
    "plt.ylim(0,550)\n",
    "plt.ylabel('No of People')\n",
    "plt.title('Female Majorities Participates In Indian Nation Elections')"
   ]
  },
  {
   "cell_type": "code",
   "execution_count": null,
   "metadata": {},
   "outputs": [],
   "source": [
    "fmp3=ne\n",
    "fmp3=fmp3[fmp3.cand_sex == 'F']\n",
    "fmp3=fmp3[fmp3.pc_type != 'Majorities']"
   ]
  },
  {
   "cell_type": "code",
   "execution_count": null,
   "metadata": {},
   "outputs": [],
   "source": [
    "fmp4=pd.crosstab(fmp3['year'],[fmp3['cand_sex'],fmp3['pc_type']],margins=True)\n",
    "fmp4= fmp4.drop(labels='All', axis=1)\n",
    "fmp4= fmp4.drop(labels='All', axis=0)\n",
    "fmp4"
   ]
  },
  {
   "cell_type": "code",
   "execution_count": null,
   "metadata": {},
   "outputs": [],
   "source": [
    "#ploting a graph for no.of female minority participates in INE\n",
    "ax3=fmp4.plot(kind='bar',color='b')\n",
    "plt.ylim(0,200)\n",
    "plt.ylabel('No of People')\n",
    "plt.title('Female Minorities Participates In Indian Nation Elections')"
   ]
  },
  {
   "cell_type": "code",
   "execution_count": null,
   "metadata": {},
   "outputs": [],
   "source": [
    "#finding win and lost coloum (how many people won and lost in INE from 1977 to 2014)\n",
    "ne_win = ne.groupby(['year','pc_name','pc_type'])['totvotpoll'].idxmax()\n",
    "list_won=list(ne_win)\n",
    "ne['result']='lost'\n",
    "ne.ix[list_won,\"result\"]='won'"
   ]
  },
  {
   "cell_type": "markdown",
   "metadata": {},
   "source": [
    " I will be overwriting dataframe so i took ('fem' ='ne')."
   ]
  },
  {
   "cell_type": "code",
   "execution_count": null,
   "metadata": {},
   "outputs": [],
   "source": [
    "fem=ne\n",
    "fem1=pd.crosstab(fem['year'],[fem['cand_sex'],fem['pc_type'],fem['result']],margins=True)\n",
    "fem1"
   ]
  },
  {
   "cell_type": "code",
   "execution_count": null,
   "metadata": {},
   "outputs": [],
   "source": [
    "# finding female minorities who won in INE"
   ]
  },
  {
   "cell_type": "code",
   "execution_count": null,
   "metadata": {},
   "outputs": [],
   "source": [
    "fem=fem[fem.cand_sex == 'F']\n",
    "fem=fem[fem.pc_type != 'Majorities']\n",
    "fem=fem[fem.result !='lost']"
   ]
  },
  {
   "cell_type": "code",
   "execution_count": null,
   "metadata": {},
   "outputs": [],
   "source": [
    "fem1=pd.crosstab(fem['year'],[fem['cand_sex'],fem['pc_type'],fem['result']],margins=True)"
   ]
  },
  {
   "cell_type": "code",
   "execution_count": null,
   "metadata": {},
   "outputs": [],
   "source": [
    "fem1= fem1.drop(labels='All', axis=1)\n",
    "fem1= fem1.drop(labels='All', axis=0)\n",
    "fem1"
   ]
  },
  {
   "cell_type": "markdown",
   "metadata": {},
   "source": [
    "Now lets plot a bar graph"
   ]
  },
  {
   "cell_type": "code",
   "execution_count": null,
   "metadata": {},
   "outputs": [],
   "source": [
    "ax=fem1.plot(kind='bar' , color='b')\n",
    "plt.ylim(0,25)\n",
    "plt.ylabel('No of People')\n",
    "plt.title('Female Minorities Won In Indian Nation Elections')"
   ]
  },
  {
   "cell_type": "code",
   "execution_count": null,
   "metadata": {},
   "outputs": [],
   "source": [
    "fem2=pd.crosstab(fem['year'],[fem['cand_sex'],fem['partyabbre'],fem['result'],fem['pc_type']],margins=True)"
   ]
  },
  {
   "cell_type": "markdown",
   "metadata": {},
   "source": [
    "finding the female majorities who won"
   ]
  },
  {
   "cell_type": "code",
   "execution_count": null,
   "metadata": {},
   "outputs": [],
   "source": [
    "fem2=ne"
   ]
  },
  {
   "cell_type": "code",
   "execution_count": null,
   "metadata": {},
   "outputs": [],
   "source": [
    "fem2=fem2[fem2.cand_sex == 'F']\n",
    "fem2=fem2[fem2.pc_type != 'Minorities']\n",
    "fem2=fem2[fem2.result !='lost']"
   ]
  },
  {
   "cell_type": "code",
   "execution_count": null,
   "metadata": {},
   "outputs": [],
   "source": [
    "fem3=pd.crosstab(fem2['year'],[fem2['cand_sex'],fem2['pc_type'],fem2['result']],margins=True)\n",
    "fem3= fem3.drop(labels='All', axis=1)\n",
    "fem3= fem3.drop(labels='All', axis=0)\n",
    "fem3"
   ]
  },
  {
   "cell_type": "markdown",
   "metadata": {},
   "source": [
    "Ploting bar graph for Female Majorities won"
   ]
  },
  {
   "cell_type": "code",
   "execution_count": null,
   "metadata": {},
   "outputs": [],
   "source": [
    "ax1=fem3.plot(kind='bar')\n",
    "plt.ylim(0,60)\n",
    "plt.ylabel('No of People')\n",
    "plt.title('Female Majorities Won In Indian Nation Elections')"
   ]
  },
  {
   "cell_type": "code",
   "execution_count": null,
   "metadata": {},
   "outputs": [],
   "source": [
    "fem4=pd.crosstab(fem2['year'],[fem2['cand_sex'],fem2['partyabbre'],fem2['result'],fem2['pc_type']],margins=True)"
   ]
  },
  {
   "cell_type": "code",
   "execution_count": null,
   "metadata": {},
   "outputs": [],
   "source": [
    "my_model = pd.crosstab(ne['year'], [ne['result'], ne['cand_sex'], ne['pc_type']], margins = True)\n",
    "print(my_model)"
   ]
  },
  {
   "cell_type": "code",
   "execution_count": null,
   "metadata": {},
   "outputs": [],
   "source": [
    "# Losing Candidates\n",
    "female_majorities_lost = my_model.lost.F.Majorities\n",
    "female_minorities_lost = my_model.lost.F.Minorities\n",
    "male_majorities_lost = my_model.lost.M.Majorities\n",
    "male_minorities_lost = my_model.lost.M.Minorities\n",
    "\n",
    "# Summing losses by gender\n",
    "female_lost = female_majorities_lost + female_minorities_lost\n",
    "male_lost = male_majorities_lost + male_minorities_lost\n",
    "total_lost = female_lost + male_lost\n",
    "\n",
    "# Winning Candidates\n",
    "female_majorities_won = my_model.won.F.Majorities\n",
    "female_minorities_won = my_model.won.F.Minorities\n",
    "male_majorities_won = my_model.won.M.Majorities\n",
    "male_minorities_won = my_model.won.M.Minorities\n",
    "\n",
    "# Summing wins by gender\n",
    "female_won = female_majorities_won + female_minorities_won\n",
    "male_won = male_majorities_won + male_minorities_won\n",
    "\n",
    "# Total number of Seats in Lok Sabha\n",
    "minority_seats = female_minorities_won + male_minorities_won\n",
    "majority_seats = female_majorities_won + male_majorities_won\n",
    "total_seats_lok_sabha = majority_seats + minority_seats\n",
    "\n",
    "# Total participants\n",
    "total_participants = total_seats_lok_sabha + total_lost\n",
    "# Winning & Losing Proportions\n",
    "winnings_proportion = total_seats_lok_sabha/total_participants\n",
    "losing_proportion = 1 - winnings_proportion\n",
    "\n",
    "# Proportions: Won AND Minority Seats\n",
    "minority_winning_proportions = minority_seats/total_seats_lok_sabha\n",
    "\n",
    "## Majority Branch\n",
    "# Proportions: Won AND Majority Seats \n",
    "majority_winning_proportions = 1 - minority_winning_proportions\n",
    "\n",
    "# Proportions: Won AND Female AND Majority\n",
    "won_female_and_majority = female_majorities_won/majority_seats\n",
    "\n",
    "# Proportions: Won AND Male AND Majority\n",
    "won_male_and_majority = 1 - won_female_and_majority\n",
    "\n",
    "## Minority Branch\n",
    "# Proportions: Won AND Female AND Minority\n",
    "won_female_and_minority = female_minorities_won/minority_seats\n",
    "\n",
    "# Proportions: Won AND Male AND Minority\n",
    "won_male_and_minority = 1 - won_female_and_minority"
   ]
  },
  {
   "cell_type": "code",
   "execution_count": null,
   "metadata": {},
   "outputs": [],
   "source": [
    "# Testing the Axioms of Probability Theory that sum must equal to 1\n",
    "\n",
    "test1 = minority_seats/(minority_seats + majority_seats)*(won_male_and_minority + won_female_and_minority) + majority_seats/(minority_seats + majority_seats) * (won_female_and_majority + won_male_and_majority)\n",
    "#print(test2)\n",
    "#test2= test1.drop(labels='All', axis=0)\n"
   ]
  },
  {
   "cell_type": "code",
   "execution_count": null,
   "metadata": {},
   "outputs": [],
   "source": [
    "## Calculating the Probability of a woman winning\n",
    "# Computing the probability using Total Probability Law, explained more in the Research Paper\n",
    "\n",
    "# Probability that a women wins equals Prob(woman won AND belongs to majority) plus Prob(woman won AND belongs to minority)\n",
    "\n",
    "# Probability that a women won AND belongs to majority:\n",
    "pr_won_female_maj = winnings_proportion * majority_winning_proportions * won_female_and_majority\n",
    "\n",
    "# Probability that a women won AND belongs to minority:\n",
    "pr_won_female_min = winnings_proportion * minority_winning_proportions * won_female_and_minority\n",
    "\n",
    "# Probability that a women wins:\n",
    "pr_won_female = pr_won_female_min + pr_won_female_maj\n",
    "\n",
    "ar=pr_won_female*100\n",
    "print(ar)\n",
    "ar2= ar.drop(labels='All', axis=0)"
   ]
  },
  {
   "cell_type": "code",
   "execution_count": null,
   "metadata": {},
   "outputs": [],
   "source": [
    "ax4=ar.plot(kind='bar' ,color='b')\n",
    "plt.ylim(0,2)\n",
    "plt.ylabel('% of women representation')\n",
    "plt.title('Representation of women')"
   ]
  },
  {
   "cell_type": "code",
   "execution_count": null,
   "metadata": {},
   "outputs": [],
   "source": [
    "## Application of Bayes Theorem\n",
    "# Question: A woman has won, what are the proportions that she belongs to minority?\n",
    "# We condition upon the fact that a woman has won a seat, and compute it using the Bayes Theorem.\n",
    "# This answer should give us an idea of how it is for a woman who belongs to minority to win\n",
    "\n",
    "# Randomly picked women belongs to minority\n",
    "pr_female_min_conditioned_upon_female_won = pr_won_female_min/pr_won_female\n",
    "\n",
    "# Randomly picked woman belongs to majority\n",
    "pr_female_maj_conditioned_upon_female_won = pr_won_female_maj/pr_won_female\n",
    "\n",
    "# Percentage of picked woman belongs to minority\n",
    "percentage_result1 = pr_female_min_conditioned_upon_female_won * 100\n",
    "\n",
    "# Percentage of picked woman belongs to majority\n",
    "percentage_result2 = pr_female_maj_conditioned_upon_female_won * 100\n",
    "percentage_result3= percentage_result1.drop(labels='All', axis=0)\n",
    "print(percentage_result3)"
   ]
  },
  {
   "cell_type": "code",
   "execution_count": null,
   "metadata": {},
   "outputs": [],
   "source": [
    "percentage_result4= percentage_result2.drop(labels='All', axis=0)\n",
    "print(percentage_result4)"
   ]
  },
  {
   "cell_type": "code",
   "execution_count": null,
   "metadata": {},
   "outputs": [],
   "source": [
    "minority_win = percentage_result3.values\n",
    "majority_win = percentage_result4.values\n",
    "years = percentage_result3.index"
   ]
  },
  {
   "cell_type": "code",
   "execution_count": null,
   "metadata": {},
   "outputs": [],
   "source": [
    "x= years\n",
    "y= minority_win\n",
    "y2= majority_win\n",
    "plt.title(\"majority - minority % win plot\")\n",
    "plt.plot(x,y,label='minorities win %')\n",
    "plt.plot(x,y2,label='Majorities win %')\n",
    "plt.xlabel('year')\n",
    "plt.ylabel('% of win')\n",
    "plt.legend()\n",
    "plt.show()"
   ]
  },
  {
   "cell_type": "code",
   "execution_count": null,
   "metadata": {},
   "outputs": [],
   "source": [
    "## Lost Branch to compute the participants\n",
    "# Total participants\n",
    "total_participants = total_seats_lok_sabha + total_lost\n",
    "\n",
    "# Losing Proportions\n",
    "losing_proportion = 1 - winnings_proportion\n",
    "\n",
    "# Majority & Minority that lost\n",
    "majority_lost = female_majorities_lost + male_majorities_lost\n",
    "minority_lost = male_minorities_lost + female_minorities_lost\n",
    "\n",
    "# Belonged to majority GIVEN that they lost:\n",
    "pr_maj_given_lost = majority_lost/total_lost\n",
    "\n",
    "# Belonged to minority GIVEN that they lost:\n",
    "pr_min_given_lost = minority_lost/total_lost\n",
    "\n",
    "\n",
    "# Male Given that they belonged to majority & lost:\n",
    "pr_male_maj_given_lost = male_majorities_lost/majority_lost\n",
    "\n",
    "# Female given that they belonged to minority & lost:\n",
    "pr_female_maj_given_lost = female_majorities_lost/majority_lost\n",
    "\n",
    "## Minority leaf\n",
    "# Belonged to Male Minority given that they lost:\n",
    "pr_male_min_given_lost = male_minorities_lost/minority_lost\n",
    "\n",
    "# Belonged to Female Minorties given that they lost:\n",
    "pr_female_min_given_lost = female_minorities_lost/minority_lost\n",
    "\n",
    "\n",
    "## Testing the Axioms of Probability to Make sure that the tree equals ONE\n",
    "# Test 2 for losing branch\n",
    "test2 = pr_maj_given_lost*(pr_male_maj_given_lost + pr_female_maj_given_lost) + pr_min_given_lost*(pr_male_min_given_lost + pr_female_min_given_lost)\n",
    "print(test2)\n",
    "\n",
    "\n",
    "## Combining Lok Sabha Leaf and Losing Participant's Leaf\n",
    "test3 = winnings_proportion*test1 + losing_proportion*test2\n",
    "print(test3)"
   ]
  },
  {
   "cell_type": "code",
   "execution_count": null,
   "metadata": {},
   "outputs": [],
   "source": [
    "## Conversion Rates for Minority\n",
    "\n",
    "# Probability that a female won that year\n",
    "pr_won_female\n",
    "\n",
    "# Pool that a minority female contests the elections against:\n",
    "total_minority_participants = winnings_proportion * minority_winning_proportions * (won_male_and_minority + won_female_and_minority) + losing_proportion * pr_min_given_lost * (pr_male_min_given_lost + pr_female_min_given_lost)\n",
    "\n",
    "# Conversion rate for women in minority:\n",
    "conversion_rate_female_min = winnings_proportion * minority_winning_proportions * won_female_and_minority / total_minority_participants\n",
    "crf=conversion_rate_female_min * 100\n",
    "crf1= crf.drop(labels='All', axis=0)\n",
    "print(crf1)\n",
    "\n",
    "ax6= crf1.plot(kind='bar',color='b')\n",
    "plt.ylim(0,5)\n",
    "plt.ylabel('win percent')\n",
    "plt.title(' Conversion rate for women in minority')"
   ]
  },
  {
   "cell_type": "code",
   "execution_count": null,
   "metadata": {},
   "outputs": [],
   "source": [
    "## Conversion Rates for Female in Majority\n",
    "total_majority_participants = winnings_proportion * majority_winning_proportions * (won_male_and_majority + won_female_and_majority) + losing_proportion * pr_maj_given_lost * (pr_male_maj_given_lost + pr_female_maj_given_lost)\n",
    "\n",
    "conversion_rate_female_maj = winnings_proportion * majority_winning_proportions * won_female_and_majority / total_majority_participants\n",
    "crfm=conversion_rate_female_maj * 100\n",
    "crfm1= crfm.drop(labels='All', axis=0)\n",
    "print(crfm1)\n",
    "ax7= crfm1.plot(kind='bar',color='b')\n",
    "plt.ylim(0,5)\n",
    "plt.ylabel('win percent')\n",
    "plt.title(' Conversion rate for women in majorities')"
   ]
  },
  {
   "cell_type": "code",
   "execution_count": null,
   "metadata": {},
   "outputs": [],
   "source": [
    "# Probability that a women won AND belongs to majority:\n",
    "won_female_maj = majority_winning_proportions * won_female_and_majority\n",
    "\n",
    "# Probability that a women won AND belongs to minority:\n",
    "won_female_min = minority_winning_proportions * won_female_and_minority\n",
    "\n",
    "female_representation = won_female_maj + won_female_min\n",
    "\n",
    "percentage_female_representation = female_representation * 100\n",
    "\n",
    "pfr=percentage_female_representation\n",
    "pfr1= pfr.drop(labels='All', axis=0)\n",
    "print(pfr1)\n",
    "ax8= pfr1.plot(kind='bar',color='b')\n",
    "plt.ylim(0,15)\n",
    "plt.ylabel('win percent')\n",
    "plt.title('percentage_female_representation')\n"
   ]
  },
  {
   "cell_type": "code",
   "execution_count": null,
   "metadata": {},
   "outputs": [],
   "source": [
    "## Statistics TIME\n",
    "\n",
    "# Let x be the winning chance of female in minority\n",
    "x = conversion_rate_female_min\n",
    "x_bar = x.mean()\n",
    "variance_x = x.var()\n",
    "\n",
    "print('x_bar: ', x_bar)\n",
    "print('variance of x: ', variance_x)\n",
    "\n",
    "\n",
    "# Let y be the winning chance of female in majority\n",
    "y = conversion_rate_female_maj\n",
    "y_bar = y.mean()\n",
    "variance_y = y.var()\n",
    "\n",
    "print('y_bar: ', y_bar)\n",
    "print('variance of y: ', variance_y)"
   ]
  },
  {
   "cell_type": "code",
   "execution_count": null,
   "metadata": {},
   "outputs": [],
   "source": [
    "## Hypothesis testing\n",
    "\n",
    "# Null Hypothesis: On average, there is no difference between the conversion rates of female in minority and female in majority\n",
    "# Alternative Hypothesis: On average, the difference of the means is not zero\n",
    "\n",
    "# Introducing a new random variable 'z' such that z = x - y\n",
    "z_bar = x_bar - y_bar\n",
    "\n",
    "# Variance of Z:\n",
    "variance_z = variance_x + variance_y\n",
    "\n",
    "# Importing libararies for statistics and mathematics\n",
    "import scipy.stats as st\n",
    "import math\n",
    "\n",
    "# Standard deviation of z\n",
    "std_z = math.sqrt(variance_z)\n",
    "\n",
    "\n",
    "# We use a two-tailed test to look at the mean_difference\n",
    "alpha = 0.025\n",
    "\n",
    "# Finding the z-value at 95% level of significance\n",
    "z_value = st.norm.ppf(1 - alpha)\n",
    "\n",
    "# Computing the critical value:\n",
    "critical_value = z_value * std_z\n",
    "\n",
    "print('Critical Value is:', critical_value)\n",
    "print('Difference of averages is: ', z_bar)\n",
    "\n",
    "# Comparing the mean_difference to critcal_value\n",
    "if z_bar >= critical_value:\n",
    "    print ('Mean_difference is greater than critical value, which implies that there is statistical evidence to reject the null hypothesis')\n",
    "elif z_bar <= critical_value:\n",
    "    print('Mean_difference is less than the critical value. Not enough evidence to reject Null Hypothesis')"
   ]
  },
  {
   "cell_type": "code",
   "execution_count": null,
   "metadata": {},
   "outputs": [],
   "source": [
    "print(z_bar)"
   ]
  },
  {
   "cell_type": "code",
   "execution_count": null,
   "metadata": {},
   "outputs": [],
   "source": [
    "variance_z"
   ]
  },
  {
   "cell_type": "code",
   "execution_count": null,
   "metadata": {},
   "outputs": [],
   "source": [
    "import numpy as np\n",
    "np.cov(x,y)\n",
    "np.corrcoef(x,y)"
   ]
  },
  {
   "cell_type": "code",
   "execution_count": null,
   "metadata": {},
   "outputs": [],
   "source": [
    "np.cov(x,y)"
   ]
  },
  {
   "cell_type": "markdown",
   "metadata": {},
   "source": [
    "From the below tabels we can observe in which which National-party the women have more chances of winning.\n",
    "\n"
   ]
  },
  {
   "cell_type": "code",
   "execution_count": null,
   "metadata": {},
   "outputs": [],
   "source": [
    "#finding which party have more women winning number(minorities)\n",
    "fem2=pd.crosstab(fem['year'],[fem['cand_sex'],fem['partyabbre'],fem['result'],fem['pc_type']],margins=True)\n",
    "fem2"
   ]
  },
  {
   "cell_type": "code",
   "execution_count": null,
   "metadata": {},
   "outputs": [],
   "source": [
    "fem4"
   ]
  },
  {
   "cell_type": "code",
   "execution_count": null,
   "metadata": {},
   "outputs": [],
   "source": []
  }
 ],
 "metadata": {
  "kernelspec": {
   "display_name": "Python 3",
   "language": "python",
   "name": "python3"
  },
  "language_info": {
   "codemirror_mode": {
    "name": "ipython",
    "version": 3
   },
   "file_extension": ".py",
   "mimetype": "text/x-python",
   "name": "python",
   "nbconvert_exporter": "python",
   "pygments_lexer": "ipython3",
   "version": "3.6.4"
  }
 },
 "nbformat": 4,
 "nbformat_minor": 2
}
