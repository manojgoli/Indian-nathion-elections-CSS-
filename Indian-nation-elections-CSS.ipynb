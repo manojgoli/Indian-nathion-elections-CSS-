{
 "cells": [
  {
   "cell_type": "markdown",
   "metadata": {},
   "source": [
    "# Indian National Elections-Minority Women\n",
    "#Contributers: Venkata Guru Satvik Dondapati\n",
    "             , Sheetal Umakrishna\n",
    "             , Itishree Ghungru\n",
    "             , Ahsen Naeem\n",
    "             , Manoj kumar Goli "
   ]
  },
  {
   "cell_type": "code",
   "execution_count": 1,
   "metadata": {},
   "outputs": [
    {
     "name": "stdout",
     "output_type": "stream",
     "text": [
      "Requirement already satisfied: matplotlib in /Users/ManojGoli/anaconda3/lib/python3.6/site-packages\n",
      "Requirement already satisfied: numpy>=1.7.1 in /Users/ManojGoli/anaconda3/lib/python3.6/site-packages (from matplotlib)\n",
      "Requirement already satisfied: six>=1.10 in /Users/ManojGoli/anaconda3/lib/python3.6/site-packages (from matplotlib)\n",
      "Requirement already satisfied: python-dateutil>=2.1 in /Users/ManojGoli/anaconda3/lib/python3.6/site-packages (from matplotlib)\n",
      "Requirement already satisfied: pytz in /Users/ManojGoli/anaconda3/lib/python3.6/site-packages (from matplotlib)\n",
      "Requirement already satisfied: cycler>=0.10 in /Users/ManojGoli/anaconda3/lib/python3.6/site-packages (from matplotlib)\n",
      "Requirement already satisfied: pyparsing!=2.0.4,!=2.1.2,!=2.1.6,>=2.0.1 in /Users/ManojGoli/anaconda3/lib/python3.6/site-packages (from matplotlib)\n",
      "\u001b[33mYou are using pip version 9.0.1, however version 19.2 is available.\n",
      "You should consider upgrading via the 'pip install --upgrade pip' command.\u001b[0m\n",
      "Requirement already satisfied: xlrd in /Users/ManojGoli/anaconda3/lib/python3.6/site-packages\n",
      "\u001b[33mYou are using pip version 9.0.1, however version 19.2 is available.\n",
      "You should consider upgrading via the 'pip install --upgrade pip' command.\u001b[0m\n"
     ]
    }
   ],
   "source": [
    "try:\n",
    "    import sklearn\n",
    "except ModuleNotFoundError:\n",
    "        !pip install scikit-learn\n",
    "try:\n",
    "    import matplotlib.python as pit\n",
    "except ModuleNotFoundError:\n",
    "        !pip install matplotlib\n",
    "        \n",
    "!pip install xlrd\n",
    "\n",
    "try:\n",
    "    import pandas as pd\n",
    "except ModuleNotFoundError:\n",
    "        !pip install pandas\n",
    "\n",
    "try:\n",
    "    import xlrd\n",
    "except ModuleNotFoundEror:\n",
    "    !pip install xlrd\n",
    "            "
   ]
  },
  {
   "cell_type": "code",
   "execution_count": 2,
   "metadata": {},
   "outputs": [],
   "source": [
    "# immporting whatis necessary\n",
    "import warnings\n",
    "warnings.filterwarnings('ignore')\n",
    "from sklearn import metrics\n",
    "import matplotlib.pyplot as plt\n",
    "import pandas as pd # data processing, CSV file \n",
    "# Load the train and test datasets to create two dataframes\n",
    "ne = pd.read_excel('National Election India 1977 - 2014.xlsx')"
   ]
  },
  {
   "cell_type": "code",
   "execution_count": 3,
   "metadata": {},
   "outputs": [
    {
     "data": {
      "text/html": [
       "<div>\n",
       "<style scoped>\n",
       "    .dataframe tbody tr th:only-of-type {\n",
       "        vertical-align: middle;\n",
       "    }\n",
       "\n",
       "    .dataframe tbody tr th {\n",
       "        vertical-align: top;\n",
       "    }\n",
       "\n",
       "    .dataframe thead th {\n",
       "        text-align: right;\n",
       "    }\n",
       "</style>\n",
       "<table border=\"1\" class=\"dataframe\">\n",
       "  <thead>\n",
       "    <tr style=\"text-align: right;\">\n",
       "      <th></th>\n",
       "      <th>st_name</th>\n",
       "      <th>year</th>\n",
       "      <th>pc_no</th>\n",
       "      <th>pc_name</th>\n",
       "      <th>pc_type</th>\n",
       "      <th>cand_name</th>\n",
       "      <th>cand_sex</th>\n",
       "      <th>partyname</th>\n",
       "      <th>partyabbre</th>\n",
       "      <th>totvotpoll</th>\n",
       "      <th>electors</th>\n",
       "    </tr>\n",
       "  </thead>\n",
       "  <tbody>\n",
       "    <tr>\n",
       "      <th>0</th>\n",
       "      <td>Andaman &amp; Nicobar Islands</td>\n",
       "      <td>1977</td>\n",
       "      <td>1</td>\n",
       "      <td>Andaman &amp; Nicobar Islands</td>\n",
       "      <td>Majorities</td>\n",
       "      <td>K.R. Ganesh</td>\n",
       "      <td>M</td>\n",
       "      <td>Independents</td>\n",
       "      <td>IND</td>\n",
       "      <td>25168</td>\n",
       "      <td>85308</td>\n",
       "    </tr>\n",
       "    <tr>\n",
       "      <th>1</th>\n",
       "      <td>Andaman &amp; Nicobar Islands</td>\n",
       "      <td>1977</td>\n",
       "      <td>1</td>\n",
       "      <td>Andaman &amp; Nicobar Islands</td>\n",
       "      <td>Majorities</td>\n",
       "      <td>Manoranjan Bhakta</td>\n",
       "      <td>M</td>\n",
       "      <td>Indian National Congress</td>\n",
       "      <td>INC</td>\n",
       "      <td>35400</td>\n",
       "      <td>85308</td>\n",
       "    </tr>\n",
       "    <tr>\n",
       "      <th>2</th>\n",
       "      <td>Andaman &amp; Nicobar Islands</td>\n",
       "      <td>1980</td>\n",
       "      <td>1</td>\n",
       "      <td>Andaman &amp; Nicobar Islands</td>\n",
       "      <td>Majorities</td>\n",
       "      <td>Ramesh Mazumdar</td>\n",
       "      <td>M</td>\n",
       "      <td>Independents</td>\n",
       "      <td>IND</td>\n",
       "      <td>109</td>\n",
       "      <td>96084</td>\n",
       "    </tr>\n",
       "    <tr>\n",
       "      <th>3</th>\n",
       "      <td>Andaman &amp; Nicobar Islands</td>\n",
       "      <td>1980</td>\n",
       "      <td>1</td>\n",
       "      <td>Andaman &amp; Nicobar Islands</td>\n",
       "      <td>Majorities</td>\n",
       "      <td>Alagiri Swamy</td>\n",
       "      <td>M</td>\n",
       "      <td>Independents</td>\n",
       "      <td>IND</td>\n",
       "      <td>125</td>\n",
       "      <td>96084</td>\n",
       "    </tr>\n",
       "    <tr>\n",
       "      <th>4</th>\n",
       "      <td>Andaman &amp; Nicobar Islands</td>\n",
       "      <td>1980</td>\n",
       "      <td>1</td>\n",
       "      <td>Andaman &amp; Nicobar Islands</td>\n",
       "      <td>Majorities</td>\n",
       "      <td>Kannu Chemy</td>\n",
       "      <td>M</td>\n",
       "      <td>Independents</td>\n",
       "      <td>IND</td>\n",
       "      <td>405</td>\n",
       "      <td>96084</td>\n",
       "    </tr>\n",
       "  </tbody>\n",
       "</table>\n",
       "</div>"
      ],
      "text/plain": [
       "                     st_name  year  pc_no                    pc_name  \\\n",
       "0  Andaman & Nicobar Islands  1977      1  Andaman & Nicobar Islands   \n",
       "1  Andaman & Nicobar Islands  1977      1  Andaman & Nicobar Islands   \n",
       "2  Andaman & Nicobar Islands  1980      1  Andaman & Nicobar Islands   \n",
       "3  Andaman & Nicobar Islands  1980      1  Andaman & Nicobar Islands   \n",
       "4  Andaman & Nicobar Islands  1980      1  Andaman & Nicobar Islands   \n",
       "\n",
       "      pc_type          cand_name cand_sex                 partyname  \\\n",
       "0  Majorities        K.R. Ganesh        M              Independents   \n",
       "1  Majorities  Manoranjan Bhakta        M  Indian National Congress   \n",
       "2  Majorities    Ramesh Mazumdar        M              Independents   \n",
       "3  Majorities      Alagiri Swamy        M              Independents   \n",
       "4  Majorities        Kannu Chemy        M              Independents   \n",
       "\n",
       "  partyabbre  totvotpoll  electors  \n",
       "0        IND       25168     85308  \n",
       "1        INC       35400     85308  \n",
       "2        IND         109     96084  \n",
       "3        IND         125     96084  \n",
       "4        IND         405     96084  "
      ]
     },
     "execution_count": 3,
     "metadata": {},
     "output_type": "execute_result"
    }
   ],
   "source": [
    "#YOu can see the head of the data set\n",
    "ne.head()"
   ]
  },
  {
   "cell_type": "code",
   "execution_count": 4,
   "metadata": {},
   "outputs": [
    {
     "data": {
      "text/plain": [
       "73081"
      ]
     },
     "execution_count": 4,
     "metadata": {},
     "output_type": "execute_result"
    }
   ],
   "source": [
    "len(ne)"
   ]
  },
  {
   "cell_type": "code",
   "execution_count": 5,
   "metadata": {},
   "outputs": [
    {
     "data": {
      "text/html": [
       "<div>\n",
       "<style scoped>\n",
       "    .dataframe tbody tr th:only-of-type {\n",
       "        vertical-align: middle;\n",
       "    }\n",
       "\n",
       "    .dataframe tbody tr th {\n",
       "        vertical-align: top;\n",
       "    }\n",
       "\n",
       "    .dataframe thead th {\n",
       "        text-align: right;\n",
       "    }\n",
       "</style>\n",
       "<table border=\"1\" class=\"dataframe\">\n",
       "  <thead>\n",
       "    <tr style=\"text-align: right;\">\n",
       "      <th></th>\n",
       "      <th>year</th>\n",
       "      <th>pc_no</th>\n",
       "      <th>totvotpoll</th>\n",
       "      <th>electors</th>\n",
       "    </tr>\n",
       "  </thead>\n",
       "  <tbody>\n",
       "    <tr>\n",
       "      <th>count</th>\n",
       "      <td>73081.000000</td>\n",
       "      <td>73081.000000</td>\n",
       "      <td>73081.000000</td>\n",
       "      <td>7.308100e+04</td>\n",
       "    </tr>\n",
       "    <tr>\n",
       "      <th>mean</th>\n",
       "      <td>1996.779505</td>\n",
       "      <td>22.311490</td>\n",
       "      <td>49834.760266</td>\n",
       "      <td>1.122277e+06</td>\n",
       "    </tr>\n",
       "    <tr>\n",
       "      <th>std</th>\n",
       "      <td>10.432527</td>\n",
       "      <td>19.039793</td>\n",
       "      <td>104893.319706</td>\n",
       "      <td>3.560049e+05</td>\n",
       "    </tr>\n",
       "    <tr>\n",
       "      <th>min</th>\n",
       "      <td>1977.000000</td>\n",
       "      <td>1.000000</td>\n",
       "      <td>0.000000</td>\n",
       "      <td>1.947100e+04</td>\n",
       "    </tr>\n",
       "    <tr>\n",
       "      <th>25%</th>\n",
       "      <td>1989.000000</td>\n",
       "      <td>7.000000</td>\n",
       "      <td>872.000000</td>\n",
       "      <td>9.129850e+05</td>\n",
       "    </tr>\n",
       "    <tr>\n",
       "      <th>50%</th>\n",
       "      <td>1996.000000</td>\n",
       "      <td>18.000000</td>\n",
       "      <td>2743.000000</td>\n",
       "      <td>1.099503e+06</td>\n",
       "    </tr>\n",
       "    <tr>\n",
       "      <th>75%</th>\n",
       "      <td>2004.000000</td>\n",
       "      <td>33.000000</td>\n",
       "      <td>19185.000000</td>\n",
       "      <td>1.329086e+06</td>\n",
       "    </tr>\n",
       "    <tr>\n",
       "      <th>max</th>\n",
       "      <td>2014.000000</td>\n",
       "      <td>85.000000</td>\n",
       "      <td>863358.000000</td>\n",
       "      <td>3.368399e+06</td>\n",
       "    </tr>\n",
       "  </tbody>\n",
       "</table>\n",
       "</div>"
      ],
      "text/plain": [
       "               year         pc_no     totvotpoll      electors\n",
       "count  73081.000000  73081.000000   73081.000000  7.308100e+04\n",
       "mean    1996.779505     22.311490   49834.760266  1.122277e+06\n",
       "std       10.432527     19.039793  104893.319706  3.560049e+05\n",
       "min     1977.000000      1.000000       0.000000  1.947100e+04\n",
       "25%     1989.000000      7.000000     872.000000  9.129850e+05\n",
       "50%     1996.000000     18.000000    2743.000000  1.099503e+06\n",
       "75%     2004.000000     33.000000   19185.000000  1.329086e+06\n",
       "max     2014.000000     85.000000  863358.000000  3.368399e+06"
      ]
     },
     "execution_count": 5,
     "metadata": {},
     "output_type": "execute_result"
    }
   ],
   "source": [
    "ne.describe()"
   ]
  },
  {
   "cell_type": "code",
   "execution_count": 6,
   "metadata": {},
   "outputs": [
    {
     "name": "stdout",
     "output_type": "stream",
     "text": [
      "Majorities    61478\n",
      "Minorities    11603\n",
      "Name: pc_type, dtype: int64\n"
     ]
    }
   ],
   "source": [
    "# absolute numbers to check the total no of Minorities=sc/st and majorities=Gen\n",
    "print(ne[\"pc_type\"].value_counts())"
   ]
  },
  {
   "cell_type": "code",
   "execution_count": 7,
   "metadata": {},
   "outputs": [
    {
     "name": "stdout",
     "output_type": "stream",
     "text": [
      "2014    668\n",
      "1996    599\n",
      "2009    556\n",
      "2004    355\n",
      "1991    330\n",
      "1999    284\n",
      "1998    274\n",
      "1989    198\n",
      "1984    171\n",
      "1980    143\n",
      "1977     70\n",
      "Name: year, dtype: int64\n"
     ]
    }
   ],
   "source": [
    "#Total no of female participates in each year\n",
    "print(ne[\"year\"][ne[\"cand_sex\"]=='F'].value_counts())"
   ]
  },
  {
   "cell_type": "code",
   "execution_count": 8,
   "metadata": {},
   "outputs": [
    {
     "name": "stdout",
     "output_type": "stream",
     "text": [
      "['st_name' 'year' 'pc_no' 'pc_name' 'pc_type' 'cand_name' 'cand_sex'\n",
      " 'partyname' 'partyabbre' 'totvotpoll' 'electors']\n"
     ]
    }
   ],
   "source": [
    "# Print the ne data to see the available features\n",
    "coloum_title=print(ne.columns.values)"
   ]
  },
  {
   "cell_type": "code",
   "execution_count": 9,
   "metadata": {},
   "outputs": [
    {
     "name": "stdout",
     "output_type": "stream",
     "text": [
      "['Majorities' 'Minorities']\n",
      "['M' 'F' nan 'O']\n",
      "['Andaman & Nicobar Islands' 'Srikakulam' 'Parvathipuram' 'Bobbili'\n",
      " 'Visakhapatnam' 'Bhadrachalam' 'Anakapalli' 'Kakinada' 'Rajahmundry'\n",
      " 'Amalapuram' 'Narasapur' 'Eluru' 'Machilipatnam' 'Vijayawada' 'Tenali'\n",
      " 'Guntur' 'Bapatla' 'Narasaraopet' 'Ongole' 'Nellore' 'Tirupathi'\n",
      " 'Chittoor' 'Rajampet' 'Cuddapah' 'Hindupur' 'Anantapur' 'Kurnool'\n",
      " 'Nandyal' 'Nagarkurnool' 'Mahabubnagar' 'Hyderabad' 'Secunderabad'\n",
      " 'Siddipet' 'Medak' 'Nizamabad' 'Adilabad' 'Peddapalli' 'Karimnagar'\n",
      " 'Hanamkonda' 'Warangal' 'Khammam' 'Nalgonda' 'Miryalguda' 'Peddapalle'\n",
      " 'Zahirabad' 'Malkajgiri' 'Secundrabad' 'Chelvella' 'Mahbubnagar'\n",
      " 'Bhongir' 'Mahabubabad' 'Aruku' 'Vizianagaram' 'Narsapuram' 'Kadapa'\n",
      " 'Tirupati' 'Adilabad ' 'Peddapalle ' 'Karimnagar ' 'Bhongir '\n",
      " 'Mahabubabad  ' 'Khammam ' 'Aruku ' 'Amalapuram ' 'Eluru '\n",
      " 'Machilipatnam ' 'Bapatla ' 'Ongole ' 'Tirupati ' 'Chittoor '\n",
      " 'Arunachal West' 'Arunachal East' 'Karimganj' 'Silchar'\n",
      " 'Autonomous District' 'Dhubri' 'Kokrajhar' 'Barpeta' 'Gauhati'\n",
      " 'Mangaldoi' 'Tezpur' 'Nowgong' 'Kaliabor' 'Jorhat' 'Dibrugarh'\n",
      " 'Lakhimpur' 'Karimganj ' 'Bagaha' 'Bettiah' 'Motihari' 'Gopalganj'\n",
      " 'Siwan' 'Maharajganj' 'Chapra' 'Hajipur' 'Vaishali' 'Muzaffarpur'\n",
      " 'Sitamarhi' 'Sheohar' 'Madhubani' 'Jhanjharpur' 'Darbhanga' 'Rosera'\n",
      " 'Samastipur' 'Barh' 'Balia' 'Saharsa' 'Madhepura' 'Araria' 'Kishanganj'\n",
      " 'Purnea' 'Katihar' 'Rajmahal' 'Dumka' 'Godda' 'Banka' 'Bhagalpur'\n",
      " 'Khagaria' 'Monghyr' 'Begusarai' 'Nalanda' 'Patna' 'Arrah' 'Buxar'\n",
      " 'Sasaram' 'Bikramganj' 'Aurangabad' 'Jahanabad' 'Nawada' 'Gaya' 'Chatra'\n",
      " 'Kodarma' 'Giridih' 'Dhanbad' 'Hazaribagh' 'Ranchi' 'Jamshedpur'\n",
      " 'Singhbhum' 'Khunti' 'Lohardaga' 'Palamau' 'Valmiki Nagar'\n",
      " 'Paschim Champaran' 'Purvi Champaran' 'Supaul' 'Purnia' 'Saran'\n",
      " 'Ujiarpur' 'Munger' 'Patna Sahib' 'Pataliputra' 'Karakat' 'Jamui'\n",
      " 'Gopalganj (Sc)' 'Hajipur (Sc)' 'Samastipur (Sc)' 'Sasaram (Sc)'\n",
      " 'Gaya (Sc)' 'Jamui (Sc)' 'Chandigarh' 'Sarguja' 'Raigarh'\n",
      " 'Janjgir-Champa' 'Korba' 'Bilaspur' 'Rajnandgaon' 'Durg' 'Raipur'\n",
      " 'Mahasamund' 'Bastar' 'Kanker' 'Surguja' 'Janjgir' 'Sarangarh'\n",
      " 'Dadra & Nagar Haveli' 'Dadar & Nagar Haveli' 'Daman And Diu'\n",
      " 'Daman & Diu' 'New Delhi' 'South Delhi' 'Outer Delhi' 'East Delhi'\n",
      " 'Chandni Chowk' 'Delhi Sadar' 'Karol Bagh' 'Panaji' 'Mormugao'\n",
      " 'North Goa' 'South Goa' 'Kutch' 'Surendranagar' 'Jamnagar' 'Rajkot'\n",
      " 'Porbandar' 'Junagadh' 'Amreli' 'Bhavnagar' 'Dhandhuka' 'Ahmedabad'\n",
      " 'Gandhinagar' 'Mehsana' 'Patan' 'Banaskantha' 'Sabarkantha' 'Kapadvanj'\n",
      " 'Dohad' 'Godhra' 'Kaira' 'Anand' 'Chhota Udaipur' 'Baroda' 'Broach'\n",
      " 'Surat' 'Mandvi' 'Bulsar' 'Kachchh' 'Mahesana' 'Ahmedabad East'\n",
      " 'Ahmedabad West' 'Kheda' 'Panchmahal' 'Dahod' 'Vadodara' 'Bharuch'\n",
      " 'Bardoli' 'Navsari' 'Valsad' 'Ambala' 'Kurukshetra' 'Karnal' 'Sonepat'\n",
      " 'Rohtak' 'Faridabad' 'Mahendragarh' 'Bhiwani' 'Hissar' 'Sirsa' 'Hisar'\n",
      " 'Sonipat' 'Bhiwani-Mahendragarh' 'Gurgaon' 'Simla' 'Mandi' 'Kangra'\n",
      " 'Hamirpur' 'Shimla' 'Baramulla' 'Srinagar' 'Anantnag' 'Ladakh' 'Udhampur'\n",
      " 'Jammu' 'Bidar' 'Gulbarga' 'Raichur' 'Koppal' 'Bellary' 'Davangere'\n",
      " 'Chitradurga' 'Tumkur' 'Chikballapur' 'Kolar' 'Kanakapura'\n",
      " 'Bangalore North' 'Bangalore South' 'Mandya' 'Chamarajanagar' 'Mysore'\n",
      " 'Mangalore' 'Udupi' 'Hassan' 'Chikmagalur' 'Shimoga' 'Kanara'\n",
      " 'Dharwad South' 'Dharwad North' 'Belgaum' 'Chikkodi' 'Bagalkot' 'Bijapur'\n",
      " 'Haveri' 'Dharwad' 'Uttara Kannada' 'Davanagere' 'Udupi Chikmagalur'\n",
      " 'Dakshina Kannada' 'Bangalore Rural' 'Bangalore Central' 'Chikkballapur'\n",
      " 'Kasaragod' 'Cannanore' 'Badagara' 'Calicut' 'Manjeri' 'Ponnani'\n",
      " 'Palghat' 'Ottapalam' 'Trichur' 'Mukundapuram' 'Ernakulam' 'Muvattupuzha'\n",
      " 'Kottayam' 'Idukki' 'Alleppey' 'Mavelikara' 'Adoor' 'Quilon'\n",
      " 'Chirayinkil' 'Trivandrum' 'Kannur' 'Vadakara' 'Wayanad' 'Kozhikode'\n",
      " 'Malappuram' 'Palakkad' 'Alathur' 'Thrissur' 'Chalakudy' 'Alappuzha'\n",
      " 'Mavelikkara' 'Pathanamthitta' 'Kollam' 'Attingal' 'Thiruvananthapuram'\n",
      " 'Alathur ' 'Mavelikkara ' 'Lakshadweep' 'Morena' 'Bhind' 'Gwalior' 'Guna'\n",
      " 'Sagar' 'Khajuraho' 'Damoh' 'Satna' 'Rewa' 'Sidhi' 'Shahdol' 'Balaghat'\n",
      " 'Mandla' 'Jabalpur' 'Seoni' 'Chhindwara' 'Betul' 'Hoshangabad' 'Bhopal'\n",
      " 'Vidisha' 'Rajgarh' 'Shajapur' 'Khandwa' 'Khargone' 'Dhar' 'Indore'\n",
      " 'Ujjain' 'Jhabua' 'Mandsaur' 'Tikamgarh' 'Dewas' 'Mandsour' 'Ratlam'\n",
      " 'Rajapur' 'Ratnagiri' 'Kolaba' 'Bombay South' 'Bombay South Central'\n",
      " 'Bombay North Central' 'Bombay North East' 'Bombay North West'\n",
      " 'Bombay North' 'Thane' 'Dahanu' 'Nashik' 'Malegaon' 'Dhulia' 'Nandurbar'\n",
      " 'Erandol' 'Jalgaon' 'Buldhana' 'Akola' 'Washim' 'Amravati' 'Ramtek'\n",
      " 'Nagpur' 'Bhandara' 'Chimur' 'Chandrapur' 'Wardha' 'Yeotmal' 'Hingoli'\n",
      " 'Nanded' 'Parbhani' 'Jalna' 'Beed' 'Latur' 'Osmanabad' 'Solapur'\n",
      " 'Pandharpur' 'Ahmednagar' 'Kopargaon' 'Khed' 'Pune' 'Baramati' 'Satara'\n",
      " 'Karad' 'Sangli' 'Ichalkaranji' 'Kolhapur' 'Dhule' 'Yavatmal' 'Sholapur'\n",
      " 'Mumbai South' 'Mumbai South Central' 'Mumbai North Central'\n",
      " 'Mumbai North East' 'Mumbai North West' 'Mumbai North' 'Raver'\n",
      " 'Bhandara - Gondiya' 'Gadchiroli-Chimur' 'Yavatmal-Washim' 'Dindori'\n",
      " 'Palghar' 'Bhiwandi' 'Kalyan' 'Raigad' 'Maval' 'Shirur' 'Ahmadnagar'\n",
      " 'Shirdi' 'Madha' 'Ratnagiri - Sindhudurg' 'Hatkanangle' 'Nandurbar '\n",
      " 'Amravati ' 'Ramtek ' 'Nagpur ' 'Hingoli ' 'Dindori ' 'Palghar '\n",
      " 'Mumbai   South' 'Ahmadnagar ' 'Latur ' 'Solapur ' 'Inner Manipur'\n",
      " 'Outer Manipur' 'Shillong' 'Tura' 'Tura ' 'Mizoram' 'Nagaland'\n",
      " 'North East Delhi' 'North West Delhi' 'West Delhi'\n",
      " 'Chandni Chowk                 ' 'North East Delhi              '\n",
      " 'East Delhi                    ' 'New Delhi                     '\n",
      " 'North West Delhi              ' 'West Delhi                    '\n",
      " 'South Delhi                   ' 'Bargarh' 'Sundargarh ' 'Sambalpur'\n",
      " 'Keonjhar ' 'Mayurbhanj ' 'Balasore' 'Bhadrak ' 'Jajpur ' 'Dhenkanal'\n",
      " 'Bolangir' 'Kalahandi' 'Nabarangpur ' 'Kandhamal' 'Cuttack' 'Kendrapara '\n",
      " 'Jagatsinghpur ' 'Puri' 'Bhubaneswar' 'Aska' 'Berhampur' 'Koraput '\n",
      " 'Mayurbhanj' 'Bhadrak' 'Jajpur' 'Kendrapara' 'Jagatsinghpur' 'Koraput'\n",
      " 'Nowrangpur' 'Phulbani' 'Deogarh' 'Sundargarh' 'Keonjhar' 'Nabarangpur'\n",
      " 'Pondicherry' 'Puducherry' 'Gurdaspur' 'Amritsar' 'Tarn Taran'\n",
      " 'Jullundur' 'Phillaur' 'Hoshiarpur' 'Ropar' 'Patiala' 'Ludhiana'\n",
      " 'Sangrur' 'Bhatinda' 'Faridkot' 'Ferozepur' 'Khadoor Sahib' 'Jalandhar'\n",
      " 'Anandpur Sahib' 'Fatehgarh Sahib' 'Ferozpur' 'Bathinda' 'Firozpur'\n",
      " 'Ganganagar' 'Bikaner' 'Churu' 'Jhunjhunu' 'Sikar' 'Jaipur' 'Dausa'\n",
      " 'Alwar' 'Bharatpur' 'Bayana' 'Sawai Madhopur' 'Ajmer' 'Tonk' 'Kota'\n",
      " 'Jhalawar' 'Banswara' 'Salumber' 'Udaipur' 'Chittorgarh' 'Bhilwara'\n",
      " 'Pali' 'Jalore' 'Barmer' 'Jodhpur' 'Nagaur' 'Jaipur Rural'\n",
      " 'Karauli-Dholpur' 'Tonk-Sawai Madhopur' 'Rajsamand' 'Jhalawar-Baran'\n",
      " 'Sikkim' 'Madras North' 'Madras Central' 'Madras South' 'Sriperumbudur'\n",
      " 'Chengalpattu' 'Arakkonam' 'Vellore' 'Tiruppattur' 'Wandiwash'\n",
      " 'Tindivanam' 'Cuddalore' 'Chidambaram' 'Dharmapuri' 'Krishnagiri'\n",
      " 'Rasipuram' 'Salem' 'Tiruchengode' 'Nilgiris' 'Gobichettipalayam'\n",
      " 'Coimbatore' 'Pollachi' 'Palani' 'Dindigul' 'Madurai' 'Periyakulam'\n",
      " 'Karur' 'Tiruchirappalli' 'Perambalur' 'Mayiladuturai' 'Nagapattinam'\n",
      " 'Thanjavur' 'Pudukkottai' 'Sivaganga' 'Ramanathapuram' 'Sivakasi'\n",
      " 'Tirunelveli' 'Tenkasi' 'Tiruchendur' 'Nagercoil' 'Vandavasi'\n",
      " 'Thiruvallur' 'Chennai North' 'Chennai South' 'Chennai Central'\n",
      " 'Kancheepuram' 'Tiruvannamalai' 'Arani' 'Viluppuram' 'Kallakurichi'\n",
      " 'Namakkal' 'Erode' 'Tiruppur' 'Mayiladuthurai' 'Theni' 'Virudhunagar'\n",
      " 'Thoothukkudi' 'Kanniyakumari' 'Thiruvallur ' 'Kancheepuram ' 'Nilgiris '\n",
      " 'Cuddalore ' 'Chidambaram ' 'Nagapattinam ' 'Theni ' 'Tenkasi '\n",
      " 'Tripura West' 'Tripura East' 'Tehri Garhwal' 'Garhwal' 'Almora'\n",
      " 'Nainital' 'Bijnor' 'Amroha' 'Moradabad' 'Rampur' 'Sambhal' 'Budaun'\n",
      " 'Aonla' 'Bareilly' 'Pilibhit' 'Shahjahanpur' 'Kheri' 'Shahabad' 'Sitapur'\n",
      " 'Misrikh' 'Hardoi' 'Lucknow' 'Mohanlalganj' 'Unnao' 'Rae Bareli'\n",
      " 'Pratapgarh' 'Amethi' 'Sultanpur' 'Akbarpur' 'Faizabad' 'Bara Banki'\n",
      " 'Kaiserganj' 'Bahraich' 'Balrampur' 'Gonda' 'Basti' 'Domariaganj'\n",
      " 'Khalilabad' 'Bansgaon' 'Gorakhpur' 'Padrauna' 'Deoria' 'Salempur'\n",
      " 'Ballia' 'Ghosi' 'Azamgarh' 'Lalganj' 'Machhlishahr' 'Jaunpur' 'Saidpur'\n",
      " 'Ghazipur' 'Chandauli' 'Varanasi' 'Robertsganj' 'Mirzapur' 'Phulpur'\n",
      " 'Allahabad' 'Chail' 'Fatehpur' 'Banda' 'Jhansi' 'Jalaun' 'Ghatampur'\n",
      " 'Bilhaur' 'Kanpur' 'Etawah' 'Kannauj' 'Farrukhabad' 'Mainpuri' 'Jalesar'\n",
      " 'Etah' 'Firozabad' 'Agra' 'Mathura' 'Hathras' 'Aligarh' 'Khurja'\n",
      " 'Bulandshahr' 'Hapur' 'Meerut' 'Baghpat' 'Muzaffarnagar' 'Kairana'\n",
      " 'Saharanpur' 'Hardwar' 'Nagina' 'Ghaziabad' 'Gautam Buddh Nagar'\n",
      " 'Fatehpur Sikri' 'Badaun' 'Dhaurahra' 'Kaushambi' 'Barabanki'\n",
      " 'Ambedkar Nagar' 'Shrawasti' 'Domariyaganj' 'Sant Kabir Nagar'\n",
      " 'Kushi Nagar' 'Bhadohi' 'Gautam Buddha Nagar' 'Nainital-Udhamsingh Nagar'\n",
      " 'Cooch Behar' 'Alipurduars' 'Jalpaiguri' 'Darjeeling' 'Raiganj'\n",
      " 'Balurghat' 'Malda' 'Jangipur' 'Murshidabad' 'Berhampore' 'Krishnagar'\n",
      " 'Nabadwip' 'Barasat' 'Basirhat' 'Joynagar' 'Mathurapur' 'Diamond Harbour'\n",
      " 'Jadavpur' 'Barrackpore' 'Dum Dum' 'Calcutta North West'\n",
      " 'Calcutta North East' 'Calcutta South' 'Howrah' 'Uluberia' 'Serampore'\n",
      " 'Hooghly' 'Arambagh' 'Panskura' 'Tamluk' 'Contai' 'Midnapore' 'Jhargram'\n",
      " 'Purulia' 'Bankura' 'Vishnupur' 'Durgapur' 'Asansol' 'Burdwan' 'Katwa'\n",
      " 'Bolpur' 'Birbhum' 'Maldaha Uttar' 'Maldaha Dakshin' 'Baharampur'\n",
      " 'Krishnanagar' 'Ranaghat' 'Bangaon' 'Kolkata Dakshin' 'Kolkata Uttar'\n",
      " 'Srerampur' 'Kanthi' 'Ghatal' 'Medinipur' 'Bishnupur' 'Bardhaman Purba'\n",
      " 'Burdwan - Durgapur']\n"
     ]
    }
   ],
   "source": [
    "#checking are there any spelling or word errors and repeting state names\n",
    "print(ne['pc_type'].unique())\n",
    "print(ne['cand_sex'].unique())\n",
    "print(ne['pc_name'].unique())"
   ]
  },
  {
   "cell_type": "markdown",
   "metadata": {},
   "source": [
    "I took 'GEN' ( general) as Majorities.\n",
    "I took SC/st as Minorities to make it simple for understanding."
   ]
  },
  {
   "cell_type": "code",
   "execution_count": 10,
   "metadata": {},
   "outputs": [],
   "source": [
    "# replacing the errors\n",
    "ne=ne.replace(['GEN','SC ','ST','SC','INC(I)','chhattisgarh','Goa Daman & Diu','National Capital Territory Of Delhi','Nct Of Delhi','Orissa','pondicherry','uttaranchal'],['Majorities','Minorities','Minorities','Minorities','INC','Chattisgarh','Goa, Daman & Diu','Delhi','Delhi','Odisha','Puducherry','Uttarakhand'])"
   ]
  },
  {
   "cell_type": "code",
   "execution_count": 11,
   "metadata": {},
   "outputs": [
    {
     "data": {
      "text/plain": [
       "st_name         0\n",
       "year            0\n",
       "pc_no           0\n",
       "pc_name         0\n",
       "pc_type         0\n",
       "cand_name       0\n",
       "cand_sex      542\n",
       "partyname       0\n",
       "partyabbre      0\n",
       "totvotpoll      0\n",
       "electors        0\n",
       "dtype: int64"
      ]
     },
     "execution_count": 11,
     "metadata": {},
     "output_type": "execute_result"
    }
   ],
   "source": [
    "#checking the empty cells\n",
    "from sklearn import tree\n",
    "ne.isnull().sum()"
   ]
  },
  {
   "cell_type": "code",
   "execution_count": null,
   "metadata": {},
   "outputs": [],
   "source": [
    "#for filling the missing data in pc_type(2009 data)\n",
    "def nanreplacing(ind,outfilename):\n",
    "    #Modifying the pd.DataFrame to get max value in each pc_name\n",
    "    ad = pd.DataFrame(ind,columns=['pc_name','pc_type','year','totvotpoll']).apply(lambda y: y.str.strip() if y.dtype==\"object\" else y)\n",
    "    ad = ad.dropna()\n",
    "    ad = pd.DataFrame(ad.groupby(['pc_name','year']).max())\n",
    "    ad = pd.DataFrame(ad.reset_index(level=['pc_name','year']))\n",
    "    ad = pd.DataFrame(ad,columns=['pc_name','pc_type']).groupby('pc_name').agg(lambda  x : x.value_counts().index[0])\n",
    "    lkp=ad.to_dict()['pc_type']\n",
    "    #print(lkp)\n",
    "    ind['pc_type'] = ind['pc_type'].fillna(ind['pc_name'].apply(lambda x : lkp.get(x) if lkp.get(x) != None else 'GEN' ))\n",
    "    ind.to_excel(outfilename, sheet_name='Sheet1',index=False)\n",
    "nanreplacing(ne,\"National Election India 1977 - 2014.xlsx\")"
   ]
  },
  {
   "cell_type": "code",
   "execution_count": null,
   "metadata": {},
   "outputs": [],
   "source": [
    "#cleaning missing data in cand_sex\n",
    "ne[\"cand_sex\"] = ne[\"cand_sex\"].fillna('M')"
   ]
  },
  {
   "cell_type": "code",
   "execution_count": null,
   "metadata": {},
   "outputs": [],
   "source": [
    "ne.isnull().sum()"
   ]
  },
  {
   "cell_type": "markdown",
   "metadata": {},
   "source": [
    "After cleaning and arranging every thing now we can observe the below data as"
   ]
  },
  {
   "cell_type": "code",
   "execution_count": null,
   "metadata": {},
   "outputs": [],
   "source": [
    "#we need only 'year','cand_sex'(gender),'pc_type'(cast=majorities,minorities)\n",
    "ne_cross=pd.crosstab(ne['year'],[ne['cand_sex'],ne['pc_type']],margins=True)\n",
    "ne_cross"
   ]
  },
  {
   "cell_type": "code",
   "execution_count": null,
   "metadata": {},
   "outputs": [],
   "source": [
    "ne_cross = ne_cross.drop(labels='All', axis=1)\n",
    "ne_cross= ne_cross.drop(labels='All', axis=0)\n",
    "ne_cross"
   ]
  },
  {
   "cell_type": "code",
   "execution_count": null,
   "metadata": {},
   "outputs": [],
   "source": [
    "#I will be overwriting dataframe so i took ('fmp1' ='ne') because i dont want to change the original dataset.\n",
    "fmp1=ne\n",
    "fmp1=fmp1[fmp1.cand_sex == 'F']\n",
    "fmp1=fmp1[fmp1.pc_type != 'Minorities']"
   ]
  },
  {
   "cell_type": "code",
   "execution_count": null,
   "metadata": {},
   "outputs": [],
   "source": [
    "fmp2=pd.crosstab(fmp1['year'],[fmp1['cand_sex'],fmp1['pc_type']],margins=True)\n",
    "fmp2= fmp2.drop(labels='All', axis=1)\n",
    "fmp2= fmp2.drop(labels='All', axis=0)"
   ]
  },
  {
   "cell_type": "code",
   "execution_count": null,
   "metadata": {},
   "outputs": [],
   "source": [
    "fmp2"
   ]
  },
  {
   "cell_type": "code",
   "execution_count": null,
   "metadata": {},
   "outputs": [],
   "source": [
    "#Ploting a graph for female majority participants in Indian National Elections(INE)\n",
    "ax2=fmp2.plot(kind='bar',color='b')\n",
    "plt.ylim(0,550)\n",
    "plt.ylabel('No of People')\n",
    "plt.title('Female Majorities Participates In Indian Nation Elections')"
   ]
  },
  {
   "cell_type": "code",
   "execution_count": null,
   "metadata": {},
   "outputs": [],
   "source": [
    "fmp3=ne\n",
    "fmp3=fmp3[fmp3.cand_sex == 'F']\n",
    "fmp3=fmp3[fmp3.pc_type != 'Majorities']"
   ]
  },
  {
   "cell_type": "code",
   "execution_count": null,
   "metadata": {},
   "outputs": [],
   "source": [
    "fmp4=pd.crosstab(fmp3['year'],[fmp3['cand_sex'],fmp3['pc_type']],margins=True)\n",
    "fmp4= fmp4.drop(labels='All', axis=1)\n",
    "fmp4= fmp4.drop(labels='All', axis=0)\n",
    "fmp4"
   ]
  },
  {
   "cell_type": "code",
   "execution_count": null,
   "metadata": {},
   "outputs": [],
   "source": [
    "#ploting a graph for no.of female minority participates in INE\n",
    "ax3=fmp4.plot(kind='bar',color='b')\n",
    "plt.ylim(0,200)\n",
    "plt.ylabel('No of People')\n",
    "plt.title('Female Minorities Participates In Indian Nation Elections')"
   ]
  },
  {
   "cell_type": "code",
   "execution_count": null,
   "metadata": {},
   "outputs": [],
   "source": [
    "#finding win and lost coloum (how many people won and lost in INE from 1977 to 2014)\n",
    "ne_win = ne.groupby(['year','pc_name','pc_type'])['totvotpoll'].idxmax()\n",
    "list_won=list(ne_win)\n",
    "ne['result']='lost'\n",
    "ne.ix[list_won,\"result\"]='won'"
   ]
  },
  {
   "cell_type": "markdown",
   "metadata": {},
   "source": [
    " I will be overwriting dataframe so i took ('fem' ='ne')."
   ]
  },
  {
   "cell_type": "code",
   "execution_count": null,
   "metadata": {},
   "outputs": [],
   "source": [
    "fem=ne\n",
    "fem1=pd.crosstab(fem['year'],[fem['cand_sex'],fem['pc_type'],fem['result']],margins=True)\n",
    "fem1"
   ]
  },
  {
   "cell_type": "code",
   "execution_count": null,
   "metadata": {},
   "outputs": [],
   "source": [
    "# finding female minorities who won in INE"
   ]
  },
  {
   "cell_type": "code",
   "execution_count": null,
   "metadata": {},
   "outputs": [],
   "source": [
    "fem=fem[fem.cand_sex == 'F']\n",
    "fem=fem[fem.pc_type != 'Majorities']\n",
    "fem=fem[fem.result !='lost']"
   ]
  },
  {
   "cell_type": "code",
   "execution_count": null,
   "metadata": {},
   "outputs": [],
   "source": [
    "fem1=pd.crosstab(fem['year'],[fem['cand_sex'],fem['pc_type'],fem['result']],margins=True)"
   ]
  },
  {
   "cell_type": "code",
   "execution_count": null,
   "metadata": {},
   "outputs": [],
   "source": [
    "fem1= fem1.drop(labels='All', axis=1)\n",
    "fem1= fem1.drop(labels='All', axis=0)\n",
    "fem1"
   ]
  },
  {
   "cell_type": "markdown",
   "metadata": {},
   "source": [
    "Now lets plot a bar graph"
   ]
  },
  {
   "cell_type": "code",
   "execution_count": null,
   "metadata": {},
   "outputs": [],
   "source": [
    "ax=fem1.plot(kind='bar' , color='b')\n",
    "plt.ylim(0,25)\n",
    "plt.ylabel('No of People')\n",
    "plt.title('Female Minorities Won In Indian Nation Elections')"
   ]
  },
  {
   "cell_type": "code",
   "execution_count": null,
   "metadata": {},
   "outputs": [],
   "source": [
    "fem2=pd.crosstab(fem['year'],[fem['cand_sex'],fem['partyabbre'],fem['result'],fem['pc_type']],margins=True)"
   ]
  },
  {
   "cell_type": "markdown",
   "metadata": {},
   "source": [
    "finding the female majorities who won"
   ]
  },
  {
   "cell_type": "code",
   "execution_count": null,
   "metadata": {},
   "outputs": [],
   "source": [
    "fem2=ne"
   ]
  },
  {
   "cell_type": "code",
   "execution_count": null,
   "metadata": {},
   "outputs": [],
   "source": [
    "fem2=fem2[fem2.cand_sex == 'F']\n",
    "fem2=fem2[fem2.pc_type != 'Minorities']\n",
    "fem2=fem2[fem2.result !='lost']"
   ]
  },
  {
   "cell_type": "code",
   "execution_count": null,
   "metadata": {},
   "outputs": [],
   "source": [
    "fem3=pd.crosstab(fem2['year'],[fem2['cand_sex'],fem2['pc_type'],fem2['result']],margins=True)\n",
    "fem3= fem3.drop(labels='All', axis=1)\n",
    "fem3= fem3.drop(labels='All', axis=0)\n",
    "fem3"
   ]
  },
  {
   "cell_type": "markdown",
   "metadata": {},
   "source": [
    "Ploting bar graph for Female Majorities won"
   ]
  },
  {
   "cell_type": "code",
   "execution_count": null,
   "metadata": {},
   "outputs": [],
   "source": [
    "ax1=fem3.plot(kind='bar')\n",
    "plt.ylim(0,60)\n",
    "plt.ylabel('No of People')\n",
    "plt.title('Female Majorities Won In Indian Nation Elections')"
   ]
  },
  {
   "cell_type": "code",
   "execution_count": null,
   "metadata": {},
   "outputs": [],
   "source": [
    "fem4=pd.crosstab(fem2['year'],[fem2['cand_sex'],fem2['partyabbre'],fem2['result'],fem2['pc_type']],margins=True)"
   ]
  },
  {
   "cell_type": "code",
   "execution_count": null,
   "metadata": {},
   "outputs": [],
   "source": [
    "my_model = pd.crosstab(ne['year'], [ne['result'], ne['cand_sex'], ne['pc_type']], margins = True)\n",
    "print(my_model)"
   ]
  },
  {
   "cell_type": "code",
   "execution_count": null,
   "metadata": {},
   "outputs": [],
   "source": [
    "# Losing Candidates\n",
    "female_majorities_lost = my_model.lost.F.Majorities\n",
    "female_minorities_lost = my_model.lost.F.Minorities\n",
    "male_majorities_lost = my_model.lost.M.Majorities\n",
    "male_minorities_lost = my_model.lost.M.Minorities\n",
    "\n",
    "# Summing losses by gender\n",
    "female_lost = female_majorities_lost + female_minorities_lost\n",
    "male_lost = male_majorities_lost + male_minorities_lost\n",
    "total_lost = female_lost + male_lost\n",
    "\n",
    "# Winning Candidates\n",
    "female_majorities_won = my_model.won.F.Majorities\n",
    "female_minorities_won = my_model.won.F.Minorities\n",
    "male_majorities_won = my_model.won.M.Majorities\n",
    "male_minorities_won = my_model.won.M.Minorities\n",
    "\n",
    "# Summing wins by gender\n",
    "female_won = female_majorities_won + female_minorities_won\n",
    "male_won = male_majorities_won + male_minorities_won\n",
    "\n",
    "# Total number of Seats in Lok Sabha\n",
    "minority_seats = female_minorities_won + male_minorities_won\n",
    "majority_seats = female_majorities_won + male_majorities_won\n",
    "total_seats_lok_sabha = majority_seats + minority_seats\n",
    "\n",
    "# Total participants\n",
    "total_participants = total_seats_lok_sabha + total_lost\n",
    "# Winning & Losing Proportions\n",
    "winnings_proportion = total_seats_lok_sabha/total_participants\n",
    "losing_proportion = 1 - winnings_proportion\n",
    "\n",
    "# Proportions: Won AND Minority Seats\n",
    "minority_winning_proportions = minority_seats/total_seats_lok_sabha\n",
    "\n",
    "## Majority Branch\n",
    "# Proportions: Won AND Majority Seats \n",
    "majority_winning_proportions = 1 - minority_winning_proportions\n",
    "\n",
    "# Proportions: Won AND Female AND Majority\n",
    "won_female_and_majority = female_majorities_won/majority_seats\n",
    "\n",
    "# Proportions: Won AND Male AND Majority\n",
    "won_male_and_majority = 1 - won_female_and_majority\n",
    "\n",
    "## Minority Branch\n",
    "# Proportions: Won AND Female AND Minority\n",
    "won_female_and_minority = female_minorities_won/minority_seats\n",
    "\n",
    "# Proportions: Won AND Male AND Minority\n",
    "won_male_and_minority = 1 - won_female_and_minority"
   ]
  },
  {
   "cell_type": "code",
   "execution_count": null,
   "metadata": {},
   "outputs": [],
   "source": [
    "# Testing the Axioms of Probability Theory that sum must equal to 1\n",
    "\n",
    "test1 = minority_seats/(minority_seats + majority_seats)*(won_male_and_minority + won_female_and_minority) + majority_seats/(minority_seats + majority_seats) * (won_female_and_majority + won_male_and_majority)\n",
    "#print(test2)\n",
    "#test2= test1.drop(labels='All', axis=0)\n"
   ]
  },
  {
   "cell_type": "code",
   "execution_count": null,
   "metadata": {},
   "outputs": [],
   "source": [
    "## Calculating the Probability of a woman winning\n",
    "# Computing the probability using Total Probability Law, explained more in the Research Paper\n",
    "\n",
    "# Probability that a women wins equals Prob(woman won AND belongs to majority) plus Prob(woman won AND belongs to minority)\n",
    "\n",
    "# Probability that a women won AND belongs to majority:\n",
    "pr_won_female_maj = winnings_proportion * majority_winning_proportions * won_female_and_majority\n",
    "\n",
    "# Probability that a women won AND belongs to minority:\n",
    "pr_won_female_min = winnings_proportion * minority_winning_proportions * won_female_and_minority\n",
    "\n",
    "# Probability that a women wins:\n",
    "pr_won_female = pr_won_female_min + pr_won_female_maj\n",
    "\n",
    "ar=pr_won_female*100\n",
    "print(ar)\n",
    "ar2= ar.drop(labels='All', axis=0)"
   ]
  },
  {
   "cell_type": "code",
   "execution_count": null,
   "metadata": {},
   "outputs": [],
   "source": [
    "ax4=ar.plot(kind='bar' ,color='b')\n",
    "plt.ylim(0,2)\n",
    "plt.ylabel('% of women representation')\n",
    "plt.title('Representation of women')"
   ]
  },
  {
   "cell_type": "code",
   "execution_count": null,
   "metadata": {},
   "outputs": [],
   "source": [
    "## Application of Bayes Theorem\n",
    "# Question: A woman has won, what are the proportions that she belongs to minority?\n",
    "# We condition upon the fact that a woman has won a seat, and compute it using the Bayes Theorem.\n",
    "# This answer should give us an idea of how it is for a woman who belongs to minority to win\n",
    "\n",
    "# Randomly picked women belongs to minority\n",
    "pr_female_min_conditioned_upon_female_won = pr_won_female_min/pr_won_female\n",
    "\n",
    "# Randomly picked woman belongs to majority\n",
    "pr_female_maj_conditioned_upon_female_won = pr_won_female_maj/pr_won_female\n",
    "\n",
    "# Percentage of picked woman belongs to minority\n",
    "percentage_result1 = pr_female_min_conditioned_upon_female_won * 100\n",
    "\n",
    "# Percentage of picked woman belongs to majority\n",
    "percentage_result2 = pr_female_maj_conditioned_upon_female_won * 100\n",
    "percentage_result3= percentage_result1.drop(labels='All', axis=0)\n",
    "print(percentage_result3)"
   ]
  },
  {
   "cell_type": "code",
   "execution_count": null,
   "metadata": {},
   "outputs": [],
   "source": [
    "percentage_result4= percentage_result2.drop(labels='All', axis=0)\n",
    "print(percentage_result4)"
   ]
  },
  {
   "cell_type": "code",
   "execution_count": null,
   "metadata": {},
   "outputs": [],
   "source": [
    "minority_win = percentage_result3.values\n",
    "majority_win = percentage_result4.values\n",
    "years = percentage_result3.index"
   ]
  },
  {
   "cell_type": "code",
   "execution_count": null,
   "metadata": {},
   "outputs": [],
   "source": [
    "x= years\n",
    "y= minority_win\n",
    "y2= majority_win\n",
    "plt.title(\"majority - minority % win plot\")\n",
    "plt.plot(x,y,label='minorities win %')\n",
    "plt.plot(x,y2,label='Majorities win %')\n",
    "plt.xlabel('year')\n",
    "plt.ylabel('% of win')\n",
    "plt.legend()\n",
    "plt.show()"
   ]
  },
  {
   "cell_type": "code",
   "execution_count": null,
   "metadata": {},
   "outputs": [],
   "source": [
    "## Lost Branch to compute the participants\n",
    "# Total participants\n",
    "total_participants = total_seats_lok_sabha + total_lost\n",
    "\n",
    "# Losing Proportions\n",
    "losing_proportion = 1 - winnings_proportion\n",
    "\n",
    "# Majority & Minority that lost\n",
    "majority_lost = female_majorities_lost + male_majorities_lost\n",
    "minority_lost = male_minorities_lost + female_minorities_lost\n",
    "\n",
    "# Belonged to majority GIVEN that they lost:\n",
    "pr_maj_given_lost = majority_lost/total_lost\n",
    "\n",
    "# Belonged to minority GIVEN that they lost:\n",
    "pr_min_given_lost = minority_lost/total_lost\n",
    "\n",
    "\n",
    "# Male Given that they belonged to majority & lost:\n",
    "pr_male_maj_given_lost = male_majorities_lost/majority_lost\n",
    "\n",
    "# Female given that they belonged to minority & lost:\n",
    "pr_female_maj_given_lost = female_majorities_lost/majority_lost\n",
    "\n",
    "## Minority leaf\n",
    "# Belonged to Male Minority given that they lost:\n",
    "pr_male_min_given_lost = male_minorities_lost/minority_lost\n",
    "\n",
    "# Belonged to Female Minorties given that they lost:\n",
    "pr_female_min_given_lost = female_minorities_lost/minority_lost\n",
    "\n",
    "\n",
    "## Testing the Axioms of Probability to Make sure that the tree equals ONE\n",
    "# Test 2 for losing branch\n",
    "test2 = pr_maj_given_lost*(pr_male_maj_given_lost + pr_female_maj_given_lost) + pr_min_given_lost*(pr_male_min_given_lost + pr_female_min_given_lost)\n",
    "print(test2)\n",
    "\n",
    "\n",
    "## Combining Lok Sabha Leaf and Losing Participant's Leaf\n",
    "test3 = winnings_proportion*test1 + losing_proportion*test2\n",
    "print(test3)"
   ]
  },
  {
   "cell_type": "code",
   "execution_count": null,
   "metadata": {},
   "outputs": [],
   "source": [
    "## Conversion Rates for Minority\n",
    "\n",
    "# Probability that a female won that year\n",
    "pr_won_female\n",
    "\n",
    "# Pool that a minority female contests the elections against:\n",
    "total_minority_participants = winnings_proportion * minority_winning_proportions * (won_male_and_minority + won_female_and_minority) + losing_proportion * pr_min_given_lost * (pr_male_min_given_lost + pr_female_min_given_lost)\n",
    "\n",
    "# Conversion rate for women in minority:\n",
    "conversion_rate_female_min = winnings_proportion * minority_winning_proportions * won_female_and_minority / total_minority_participants\n",
    "crf=conversion_rate_female_min * 100\n",
    "crf1= crf.drop(labels='All', axis=0)\n",
    "print(crf1)\n",
    "\n",
    "ax6= crf1.plot(kind='bar',color='b')\n",
    "plt.ylim(0,5)\n",
    "plt.ylabel('win percent')\n",
    "plt.title(' Conversion rate for women in minority')"
   ]
  },
  {
   "cell_type": "code",
   "execution_count": null,
   "metadata": {},
   "outputs": [],
   "source": [
    "## Conversion Rates for Female in Majority\n",
    "total_majority_participants = winnings_proportion * majority_winning_proportions * (won_male_and_majority + won_female_and_majority) + losing_proportion * pr_maj_given_lost * (pr_male_maj_given_lost + pr_female_maj_given_lost)\n",
    "\n",
    "conversion_rate_female_maj = winnings_proportion * majority_winning_proportions * won_female_and_majority / total_majority_participants\n",
    "crfm=conversion_rate_female_maj * 100\n",
    "crfm1= crfm.drop(labels='All', axis=0)\n",
    "print(crfm1)\n",
    "ax7= crfm1.plot(kind='bar',color='b')\n",
    "plt.ylim(0,5)\n",
    "plt.ylabel('win percent')\n",
    "plt.title(' Conversion rate for women in majorities')"
   ]
  },
  {
   "cell_type": "code",
   "execution_count": null,
   "metadata": {},
   "outputs": [],
   "source": [
    "# Probability that a women won AND belongs to majority:\n",
    "won_female_maj = majority_winning_proportions * won_female_and_majority\n",
    "\n",
    "# Probability that a women won AND belongs to minority:\n",
    "won_female_min = minority_winning_proportions * won_female_and_minority\n",
    "\n",
    "female_representation = won_female_maj + won_female_min\n",
    "\n",
    "percentage_female_representation = female_representation * 100\n",
    "\n",
    "pfr=percentage_female_representation\n",
    "pfr1= pfr.drop(labels='All', axis=0)\n",
    "print(pfr1)\n",
    "ax8= pfr1.plot(kind='bar',color='b')\n",
    "plt.ylim(0,15)\n",
    "plt.ylabel('win percent')\n",
    "plt.title('percentage_female_representation')\n"
   ]
  },
  {
   "cell_type": "code",
   "execution_count": null,
   "metadata": {},
   "outputs": [],
   "source": [
    "## Statistics TIME\n",
    "\n",
    "# Let x be the winning chance of female in minority\n",
    "x = conversion_rate_female_min\n",
    "x_bar = x.mean()\n",
    "variance_x = x.var()\n",
    "\n",
    "print('x_bar: ', x_bar)\n",
    "print('variance of x: ', variance_x)\n",
    "\n",
    "\n",
    "# Let y be the winning chance of female in majority\n",
    "y = conversion_rate_female_maj\n",
    "y_bar = y.mean()\n",
    "variance_y = y.var()\n",
    "\n",
    "print('y_bar: ', y_bar)\n",
    "print('variance of y: ', variance_y)"
   ]
  },
  {
   "cell_type": "code",
   "execution_count": null,
   "metadata": {},
   "outputs": [],
   "source": [
    "## Hypothesis testing\n",
    "\n",
    "# Null Hypothesis: On average, there is no difference between the conversion rates of female in minority and female in majority\n",
    "# Alternative Hypothesis: On average, the difference of the means is not zero\n",
    "\n",
    "# Introducing a new random variable 'z' such that z = x - y\n",
    "z_bar = x_bar - y_bar\n",
    "\n",
    "# Variance of Z:\n",
    "variance_z = variance_x + variance_y\n",
    "\n",
    "# Importing libararies for statistics and mathematics\n",
    "import scipy.stats as st\n",
    "import math\n",
    "\n",
    "# Standard deviation of z\n",
    "std_z = math.sqrt(variance_z)\n",
    "\n",
    "\n",
    "# We use a two-tailed test to look at the mean_difference\n",
    "alpha = 0.025\n",
    "\n",
    "# Finding the z-value at 95% level of significance\n",
    "z_value = st.norm.ppf(1 - alpha)\n",
    "\n",
    "# Computing the critical value:\n",
    "critical_value = z_value * std_z\n",
    "\n",
    "print('Critical Value is:', critical_value)\n",
    "print('Difference of averages is: ', z_bar)\n",
    "\n",
    "# Comparing the mean_difference to critcal_value\n",
    "if z_bar >= critical_value:\n",
    "    print ('Mean_difference is greater than critical value, which implies that there is statistical evidence to reject the null hypothesis')\n",
    "elif z_bar <= critical_value:\n",
    "    print('Mean_difference is less than the critical value. Not enough evidence to reject Null Hypothesis')"
   ]
  },
  {
   "cell_type": "code",
   "execution_count": null,
   "metadata": {},
   "outputs": [],
   "source": [
    "print(z_bar)"
   ]
  },
  {
   "cell_type": "code",
   "execution_count": null,
   "metadata": {},
   "outputs": [],
   "source": [
    "variance_z"
   ]
  },
  {
   "cell_type": "code",
   "execution_count": null,
   "metadata": {},
   "outputs": [],
   "source": [
    "import numpy as np\n",
    "np.cov(x,y)\n",
    "np.corrcoef(x,y)"
   ]
  },
  {
   "cell_type": "code",
   "execution_count": null,
   "metadata": {},
   "outputs": [],
   "source": [
    "np.cov(x,y)"
   ]
  },
  {
   "cell_type": "markdown",
   "metadata": {},
   "source": [
    "From the below tabels we can observe in which which National-party the women have more chances of winning.\n",
    "\n"
   ]
  },
  {
   "cell_type": "code",
   "execution_count": null,
   "metadata": {},
   "outputs": [],
   "source": [
    "#finding which party have more women winning number(minorities)\n",
    "fem2=pd.crosstab(fem['year'],[fem['cand_sex'],fem['partyabbre'],fem['result'],fem['pc_type']],margins=True)\n",
    "fem2"
   ]
  },
  {
   "cell_type": "code",
   "execution_count": null,
   "metadata": {},
   "outputs": [],
   "source": [
    "fem4"
   ]
  },
  {
   "cell_type": "code",
   "execution_count": null,
   "metadata": {},
   "outputs": [],
   "source": []
  }
 ],
 "metadata": {
  "kernelspec": {
   "display_name": "Python 3",
   "language": "python",
   "name": "python3"
  },
  "language_info": {
   "codemirror_mode": {
    "name": "ipython",
    "version": 3
   },
   "file_extension": ".py",
   "mimetype": "text/x-python",
   "name": "python",
   "nbconvert_exporter": "python",
   "pygments_lexer": "ipython3",
   "version": "3.6.4"
  }
 },
 "nbformat": 4,
 "nbformat_minor": 2
}
